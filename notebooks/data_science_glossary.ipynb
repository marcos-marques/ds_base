{
 "cells": [
  {
   "cell_type": "markdown",
   "metadata": {},
   "source": [
    "# Data Science Glossary"
   ]
  },
  {
   "cell_type": "markdown",
   "metadata": {},
   "source": [
    "## Analytics\n",
    "\n",
    "Uma definição ampla de analítica é a revisão dos dados para descobrir, compreender e comunicar padrões significativos. Ou, mais simplesmente, a análise são as percepções úteis de dados brutos.\n",
    "\n",
    "Mas existem quatro tipos amplos de análises que podem ser aplicadas a qualquer dado com o qual você esteja trabalhando, esses tipos são:\n",
    "\n",
    "- análises descritivas\n",
    "- diagnósticas \n",
    "- preditivas\n",
    "- prescritivas. \n",
    "\n",
    "*(Os mais comuns são descritivos, preditivos e prescritivos.) Cada um se baseia no anterior.*"
   ]
  },
  {
   "cell_type": "markdown",
   "metadata": {},
   "source": [
    "## Qual é a diferença entre análises descritivas, diagnósticas, preditivas e prescritivas?\n",
    "\n",
    "### Análise descritiva definida\n",
    "A análise descritiva, como o nome indica, descreve o que aconteceu no passado, que às vezes é referido como *dados históricos*. A análise descritiva responde à pergunta **O que aconteceu?**\n",
    "\n",
    "**Exemplos de análises descritivas:**\n",
    "\n",
    "Um grande número de análises se enquadra nesta categoria. Exemplos de análises descritivas incluem:\n",
    "\n",
    "- Número de vendas no ano passado\n",
    "- Variação na taxa de rotatividade mês a mês\n",
    "- Receita média por cliente\n",
    "\n",
    "*Basicamente, qualquer instância em que dados brutos do passado (1 minuto ou 1 ano atrás) são resumidos pode ser classificada como análises descritivas.*\n",
    "\n",
    "**Análise de diagnóstico definida**\n",
    "\n",
    "A análise de diagnóstico concentra-se na causa subjacente e é menos comum do que os outros três tipos de análise. Ele detalha um único assunto ou problema isoladamente. A análise de diagnóstico responde à pergunta **Por que isso está acontecendo?**\n",
    "\n",
    "**Exemplos de diagnósticos analíticos:**\n",
    "\n",
    "- Gerente de marketing revisando o desempenho de uma campanha de diferentes regiões geográficas\n",
    "- Um diretor de vendas analisando o número de vendas de cada produto ou uma equipe de sucesso do cliente observando o tempo de resposta dos clientes que abandonam.\n",
    "\n",
    "**Análise preditiva definida**\n",
    "\n",
    "A análise preditiva é uma estimativa calculada do que pode acontecer no futuro com base no desempenho anterior. Embora não possa realmente prever o futuro, ele cria uma previsão usando algoritmos que levam em consideração o desempenho anterior (análise descritiva) e outras variáveis possíveis. Os modelos preditivos criam uma imagem do futuro que pode então ser usada para tomar decisões mais informadas e baseadas em dados (consulte a análise prescritiva abaixo). A análise preditiva responde à pergunta **O que é provável que aconteça**\n",
    "\n",
    "**Exemplos de análise preditiva:**\n",
    "\n",
    "- Orçamentos que prevêem despesas para o próximo ano\n",
    "- Pontuação de crédito que estima a probabilidade de alguém fazer pagamentos dentro do prazo no futuro e previsões de receita que ajudam os executivos a entender quanto lucro pode ser possível para o negócio .\n",
    "\n",
    "**Análise prescritiva definida**\n",
    "\n",
    "A análise prescritiva considera o que provavelmente vai acontecer (análise preditiva) e sugere estratégias ou ações futuras. É um conselho para alcançar um resultado possível. A análise prescritiva responde à pergunta **O que devemos fazer?**\n",
    "\n",
    "**Exemplos de análises prescritivas:**\n",
    "\n",
    "- Otimização do gerenciamento da cadeia de suprimentos com base nas tendências de demanda (análise preditiva)\n",
    "- Sugerindo a rota mais rápida para casa com base nas condições de direção ou planejando os turnos de trabalho dos funcionários com base nos horários de maior movimento de um restaurante ou varejista."
   ]
  },
  {
   "cell_type": "code",
   "execution_count": null,
   "metadata": {},
   "outputs": [],
   "source": []
  }
 ],
 "metadata": {
  "kernelspec": {
   "display_name": "Python 3",
   "language": "python",
   "name": "python3"
  },
  "language_info": {
   "codemirror_mode": {
    "name": "ipython",
    "version": 3
   },
   "file_extension": ".py",
   "mimetype": "text/x-python",
   "name": "python",
   "nbconvert_exporter": "python",
   "pygments_lexer": "ipython3",
   "version": "3.7.6"
  }
 },
 "nbformat": 4,
 "nbformat_minor": 4
}
